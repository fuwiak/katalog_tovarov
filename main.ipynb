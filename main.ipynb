{
 "cells": [
  {
   "cell_type": "code",
   "execution_count": 4,
   "metadata": {
    "collapsed": true,
    "pycharm": {
     "name": "#%%\n"
    }
   },
   "outputs": [],
   "source": [
    "import pandas as pd\n"
   ]
  },
  {
   "cell_type": "code",
   "execution_count": 5,
   "outputs": [],
   "source": [
    "path =\"data/data.xlsx\"\n"
   ],
   "metadata": {
    "collapsed": false,
    "pycharm": {
     "name": "#%%\n"
    }
   }
  },
  {
   "cell_type": "code",
   "execution_count": 6,
   "outputs": [],
   "source": [
    "df = pd.read_excel(path, skiprows=1)"
   ],
   "metadata": {
    "collapsed": false,
    "pycharm": {
     "name": "#%%\n"
    }
   }
  },
  {
   "cell_type": "code",
   "execution_count": 7,
   "outputs": [
    {
     "data": {
      "text/plain": "     № п/п                          КТРУ/ОКПД2  \\\n0      1.0  32.50.13.190 / 32.50.13.190-02520    \n1      NaN                                 NaN   \n2      NaN                                 NaN   \n3      NaN                                 NaN   \n4      NaN                                 NaN   \n..     ...                                 ...   \n665    NaN                                 NaN   \n666    NaN                                 NaN   \n667    NaN                                 NaN   \n668    NaN                                 NaN   \n669    NaN                                 NaN   \n\n                                   Наименование товара  \\\n0    Стент для коронарных артерий, выделяющий лекар...   \n1                                                  NaN   \n2                                                  NaN   \n3                                                  NaN   \n4                                                  NaN   \n..                                                 ...   \n665                                                NaN   \n666                                                NaN   \n667                                                NaN   \n668                                                NaN   \n669                                                NaN   \n\n                               Наименование показателя     Ед.изм..показателя  \\\n0                                             Описание                    NaN   \n1            Эффективная длина системы доставки стента              сантиметр   \n2                                      Материал стента                    NaN   \n3                                 Номинальное давление  физическая атмосфера    \n4                           Расчетное давление разрыва  физическая атмосфера    \n..                                                 ...                    ...   \n665                               Толщина балки стента              миллиметр   \n666  Минимальный размер внутреннего диаметра совмес...              миллиметр   \n667                             Лекарственное покрытие                    NaN   \n668                         Номинальный диаметр стента              миллиметр   \n669                                       Длина стента              миллиметр   \n\n                                  Значения показателей  \\\n0    Стерильная нерассасывающаяся металлическая тру...   \n1                                                ≥ 140   \n2                               кобальт-хромовый сплав   \n3                                                 ≥ 10   \n4                                                 ≥ 16   \n..                                                 ...   \n665                                ≥ 0.071  и  ≤ 0.081   \n666                                            ≥ 1.42    \n667  зотаролимус и (или) эверолимус и (или) биолиму...   \n668                                     > 3.5  и  ≤ 4    \n669                                     > 37  и  ≤ 38    \n\n          Обоснование включения показателя в описание   \n0    Соответствует вкладке \"Описание товара, работы...  \n1    Показатель определяет рабочую длину катетера, ...  \n2    Материалы обеспечивает ряд ключевых характерис...  \n3    Показатель определяет рабочее давление баллонн...  \n4    Показатель определяет максимальное давление ра...  \n..                                                 ...  \n665  Показатель определяет ряд ключевых клинических...  \n666  Характеристика определят совместимость с сопут...  \n667  Соответствует вкладке \"Описание товара, работы...  \n668  Соответствует вкладке \"Описание товара, работы...  \n669  Соответствует вкладке \"Описание товара, работы...  \n\n[670 rows x 7 columns]",
      "text/html": "<div>\n<style scoped>\n    .dataframe tbody tr th:only-of-type {\n        vertical-align: middle;\n    }\n\n    .dataframe tbody tr th {\n        vertical-align: top;\n    }\n\n    .dataframe thead th {\n        text-align: right;\n    }\n</style>\n<table border=\"1\" class=\"dataframe\">\n  <thead>\n    <tr style=\"text-align: right;\">\n      <th></th>\n      <th>№ п/п</th>\n      <th>КТРУ/ОКПД2</th>\n      <th>Наименование товара</th>\n      <th>Наименование показателя</th>\n      <th>Ед.изм..показателя</th>\n      <th>Значения показателей</th>\n      <th>Обоснование включения показателя в описание</th>\n    </tr>\n  </thead>\n  <tbody>\n    <tr>\n      <th>0</th>\n      <td>1.0</td>\n      <td>32.50.13.190 / 32.50.13.190-02520</td>\n      <td>Стент для коронарных артерий, выделяющий лекар...</td>\n      <td>Описание</td>\n      <td>NaN</td>\n      <td>Стерильная нерассасывающаяся металлическая тру...</td>\n      <td>Соответствует вкладке \"Описание товара, работы...</td>\n    </tr>\n    <tr>\n      <th>1</th>\n      <td>NaN</td>\n      <td>NaN</td>\n      <td>NaN</td>\n      <td>Эффективная длина системы доставки стента</td>\n      <td>сантиметр</td>\n      <td>≥ 140</td>\n      <td>Показатель определяет рабочую длину катетера, ...</td>\n    </tr>\n    <tr>\n      <th>2</th>\n      <td>NaN</td>\n      <td>NaN</td>\n      <td>NaN</td>\n      <td>Материал стента</td>\n      <td>NaN</td>\n      <td>кобальт-хромовый сплав</td>\n      <td>Материалы обеспечивает ряд ключевых характерис...</td>\n    </tr>\n    <tr>\n      <th>3</th>\n      <td>NaN</td>\n      <td>NaN</td>\n      <td>NaN</td>\n      <td>Номинальное давление</td>\n      <td>физическая атмосфера</td>\n      <td>≥ 10</td>\n      <td>Показатель определяет рабочее давление баллонн...</td>\n    </tr>\n    <tr>\n      <th>4</th>\n      <td>NaN</td>\n      <td>NaN</td>\n      <td>NaN</td>\n      <td>Расчетное давление разрыва</td>\n      <td>физическая атмосфера</td>\n      <td>≥ 16</td>\n      <td>Показатель определяет максимальное давление ра...</td>\n    </tr>\n    <tr>\n      <th>...</th>\n      <td>...</td>\n      <td>...</td>\n      <td>...</td>\n      <td>...</td>\n      <td>...</td>\n      <td>...</td>\n      <td>...</td>\n    </tr>\n    <tr>\n      <th>665</th>\n      <td>NaN</td>\n      <td>NaN</td>\n      <td>NaN</td>\n      <td>Толщина балки стента</td>\n      <td>миллиметр</td>\n      <td>≥ 0.071  и  ≤ 0.081</td>\n      <td>Показатель определяет ряд ключевых клинических...</td>\n    </tr>\n    <tr>\n      <th>666</th>\n      <td>NaN</td>\n      <td>NaN</td>\n      <td>NaN</td>\n      <td>Минимальный размер внутреннего диаметра совмес...</td>\n      <td>миллиметр</td>\n      <td>≥ 1.42</td>\n      <td>Характеристика определят совместимость с сопут...</td>\n    </tr>\n    <tr>\n      <th>667</th>\n      <td>NaN</td>\n      <td>NaN</td>\n      <td>NaN</td>\n      <td>Лекарственное покрытие</td>\n      <td>NaN</td>\n      <td>зотаролимус и (или) эверолимус и (или) биолиму...</td>\n      <td>Соответствует вкладке \"Описание товара, работы...</td>\n    </tr>\n    <tr>\n      <th>668</th>\n      <td>NaN</td>\n      <td>NaN</td>\n      <td>NaN</td>\n      <td>Номинальный диаметр стента</td>\n      <td>миллиметр</td>\n      <td>&gt; 3.5  и  ≤ 4</td>\n      <td>Соответствует вкладке \"Описание товара, работы...</td>\n    </tr>\n    <tr>\n      <th>669</th>\n      <td>NaN</td>\n      <td>NaN</td>\n      <td>NaN</td>\n      <td>Длина стента</td>\n      <td>миллиметр</td>\n      <td>&gt; 37  и  ≤ 38</td>\n      <td>Соответствует вкладке \"Описание товара, работы...</td>\n    </tr>\n  </tbody>\n</table>\n<p>670 rows × 7 columns</p>\n</div>"
     },
     "execution_count": 7,
     "metadata": {},
     "output_type": "execute_result"
    }
   ],
   "source": [
    "df\n"
   ],
   "metadata": {
    "collapsed": false,
    "pycharm": {
     "name": "#%%\n"
    }
   }
  },
  {
   "cell_type": "code",
   "execution_count": 8,
   "outputs": [],
   "source": [
    "row2 = df.iloc[1]\n"
   ],
   "metadata": {
    "collapsed": false,
    "pycharm": {
     "name": "#%%\n"
    }
   }
  },
  {
   "cell_type": "code",
   "execution_count": 9,
   "outputs": [
    {
     "data": {
      "text/plain": "№ п/п                                                                                         NaN\nКТРУ/ОКПД2                                                                                    NaN\nНаименование товара                                                                           NaN\nНаименование показателя                                 Эффективная длина системы доставки стента\nЕд.изм..показателя                                                                      сантиметр\nЗначения показателей                                                                        ≥ 140\nОбоснование включения показателя в описание     Показатель определяет рабочую длину катетера, ...\nName: 1, dtype: object"
     },
     "execution_count": 9,
     "metadata": {},
     "output_type": "execute_result"
    }
   ],
   "source": [
    "row2\n"
   ],
   "metadata": {
    "collapsed": false,
    "pycharm": {
     "name": "#%%\n"
    }
   }
  },
  {
   "cell_type": "code",
   "execution_count": 10,
   "outputs": [
    {
     "name": "stdout",
     "output_type": "stream",
     "text": [
      "Показатель определяет рабочую длину катетера, совместимость с другими инструментами, применяемыми при ЧТКА и влияет на хирургическую технику\n"
     ]
    }
   ],
   "source": [
    "print(row2.iloc[-1])"
   ],
   "metadata": {
    "collapsed": false,
    "pycharm": {
     "name": "#%%\n"
    }
   }
  },
  {
   "cell_type": "code",
   "execution_count": 10,
   "outputs": [],
   "source": [],
   "metadata": {
    "collapsed": false,
    "pycharm": {
     "name": "#%%\n"
    }
   }
  }
 ],
 "metadata": {
  "kernelspec": {
   "display_name": "Python 3",
   "language": "python",
   "name": "python3"
  },
  "language_info": {
   "codemirror_mode": {
    "name": "ipython",
    "version": 2
   },
   "file_extension": ".py",
   "mimetype": "text/x-python",
   "name": "python",
   "nbconvert_exporter": "python",
   "pygments_lexer": "ipython2",
   "version": "2.7.6"
  }
 },
 "nbformat": 4,
 "nbformat_minor": 0
}